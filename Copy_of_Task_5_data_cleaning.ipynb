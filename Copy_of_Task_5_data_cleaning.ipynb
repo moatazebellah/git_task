{
  "nbformat": 4,
  "nbformat_minor": 0,
  "metadata": {
    "colab": {
      "provenance": [],
      "collapsed_sections": []
    },
    "kernelspec": {
      "name": "python3",
      "display_name": "Python 3"
    },
    "language_info": {
      "name": "python"
    }
  },
  "cells": [
    {
      "cell_type": "markdown",
      "source": [
        "<h1 align='center'><font color='brown'> Task_5\n",
        "<h5 align='center'><font color='brown'> (Cleaning & Git)"
      ],
      "metadata": {
        "id": "S8iIW2_IS559"
      }
    },
    {
      "cell_type": "markdown",
      "source": [
        "# **<font color='red'>Cleaning Part**"
      ],
      "metadata": {
        "id": "YmZ8u9Mtx45u"
      }
    },
    {
      "cell_type": "markdown",
      "source": [
        "# [**Dataset**](https://drive.google.com/file/d/1lOxdsLjcMKk7u0abP7efKCnwiosBq0lc/view?usp=sharing)\n"
      ],
      "metadata": {
        "id": "tNw1egDGTBa6"
      }
    },
    {
      "cell_type": "code",
      "source": [
        "# import your libraries here\n",
        "import pandas as pd"
      ],
      "metadata": {
        "id": "igV0nIi_S9fL"
      },
      "execution_count": null,
      "outputs": []
    },
    {
      "cell_type": "code",
      "source": [
        "# load the dataset & show first 5 rows\n",
        "df = pd.read_csv('Bank_Customer.csv')\n",
        "df.head()"
      ],
      "metadata": {
        "id": "3F8DueUpTQi1",
        "outputId": "89431d2b-7c89-40c0-a492-3cb87359db15",
        "colab": {
          "base_uri": "https://localhost:8080/",
          "height": 206
        }
      },
      "execution_count": null,
      "outputs": [
        {
          "output_type": "execute_result",
          "data": {
            "text/plain": [
              "    age           job  marital  education  balance duration\n",
              "0  58.0    management  married   tertiary     2143      261\n",
              "1  44.0    technician   single  secondary       29      151\n",
              "2  33.0  entrepreneur  married  secondary        2       76\n",
              "3  47.0   blue-collar  married    unknown     1506       92\n",
              "4  33.0       unknown   single    unknown        1      198"
            ],
            "text/html": [
              "\n",
              "  <div id=\"df-1401ac9a-ec8e-4a20-b5fb-f51c1deb0719\">\n",
              "    <div class=\"colab-df-container\">\n",
              "      <div>\n",
              "<style scoped>\n",
              "    .dataframe tbody tr th:only-of-type {\n",
              "        vertical-align: middle;\n",
              "    }\n",
              "\n",
              "    .dataframe tbody tr th {\n",
              "        vertical-align: top;\n",
              "    }\n",
              "\n",
              "    .dataframe thead th {\n",
              "        text-align: right;\n",
              "    }\n",
              "</style>\n",
              "<table border=\"1\" class=\"dataframe\">\n",
              "  <thead>\n",
              "    <tr style=\"text-align: right;\">\n",
              "      <th></th>\n",
              "      <th>age</th>\n",
              "      <th>job</th>\n",
              "      <th>marital</th>\n",
              "      <th>education</th>\n",
              "      <th>balance</th>\n",
              "      <th>duration</th>\n",
              "    </tr>\n",
              "  </thead>\n",
              "  <tbody>\n",
              "    <tr>\n",
              "      <th>0</th>\n",
              "      <td>58.0</td>\n",
              "      <td>management</td>\n",
              "      <td>married</td>\n",
              "      <td>tertiary</td>\n",
              "      <td>2143</td>\n",
              "      <td>261</td>\n",
              "    </tr>\n",
              "    <tr>\n",
              "      <th>1</th>\n",
              "      <td>44.0</td>\n",
              "      <td>technician</td>\n",
              "      <td>single</td>\n",
              "      <td>secondary</td>\n",
              "      <td>29</td>\n",
              "      <td>151</td>\n",
              "    </tr>\n",
              "    <tr>\n",
              "      <th>2</th>\n",
              "      <td>33.0</td>\n",
              "      <td>entrepreneur</td>\n",
              "      <td>married</td>\n",
              "      <td>secondary</td>\n",
              "      <td>2</td>\n",
              "      <td>76</td>\n",
              "    </tr>\n",
              "    <tr>\n",
              "      <th>3</th>\n",
              "      <td>47.0</td>\n",
              "      <td>blue-collar</td>\n",
              "      <td>married</td>\n",
              "      <td>unknown</td>\n",
              "      <td>1506</td>\n",
              "      <td>92</td>\n",
              "    </tr>\n",
              "    <tr>\n",
              "      <th>4</th>\n",
              "      <td>33.0</td>\n",
              "      <td>unknown</td>\n",
              "      <td>single</td>\n",
              "      <td>unknown</td>\n",
              "      <td>1</td>\n",
              "      <td>198</td>\n",
              "    </tr>\n",
              "  </tbody>\n",
              "</table>\n",
              "</div>\n",
              "      <button class=\"colab-df-convert\" onclick=\"convertToInteractive('df-1401ac9a-ec8e-4a20-b5fb-f51c1deb0719')\"\n",
              "              title=\"Convert this dataframe to an interactive table.\"\n",
              "              style=\"display:none;\">\n",
              "        \n",
              "  <svg xmlns=\"http://www.w3.org/2000/svg\" height=\"24px\"viewBox=\"0 0 24 24\"\n",
              "       width=\"24px\">\n",
              "    <path d=\"M0 0h24v24H0V0z\" fill=\"none\"/>\n",
              "    <path d=\"M18.56 5.44l.94 2.06.94-2.06 2.06-.94-2.06-.94-.94-2.06-.94 2.06-2.06.94zm-11 1L8.5 8.5l.94-2.06 2.06-.94-2.06-.94L8.5 2.5l-.94 2.06-2.06.94zm10 10l.94 2.06.94-2.06 2.06-.94-2.06-.94-.94-2.06-.94 2.06-2.06.94z\"/><path d=\"M17.41 7.96l-1.37-1.37c-.4-.4-.92-.59-1.43-.59-.52 0-1.04.2-1.43.59L10.3 9.45l-7.72 7.72c-.78.78-.78 2.05 0 2.83L4 21.41c.39.39.9.59 1.41.59.51 0 1.02-.2 1.41-.59l7.78-7.78 2.81-2.81c.8-.78.8-2.07 0-2.86zM5.41 20L4 18.59l7.72-7.72 1.47 1.35L5.41 20z\"/>\n",
              "  </svg>\n",
              "      </button>\n",
              "      \n",
              "  <style>\n",
              "    .colab-df-container {\n",
              "      display:flex;\n",
              "      flex-wrap:wrap;\n",
              "      gap: 12px;\n",
              "    }\n",
              "\n",
              "    .colab-df-convert {\n",
              "      background-color: #E8F0FE;\n",
              "      border: none;\n",
              "      border-radius: 50%;\n",
              "      cursor: pointer;\n",
              "      display: none;\n",
              "      fill: #1967D2;\n",
              "      height: 32px;\n",
              "      padding: 0 0 0 0;\n",
              "      width: 32px;\n",
              "    }\n",
              "\n",
              "    .colab-df-convert:hover {\n",
              "      background-color: #E2EBFA;\n",
              "      box-shadow: 0px 1px 2px rgba(60, 64, 67, 0.3), 0px 1px 3px 1px rgba(60, 64, 67, 0.15);\n",
              "      fill: #174EA6;\n",
              "    }\n",
              "\n",
              "    [theme=dark] .colab-df-convert {\n",
              "      background-color: #3B4455;\n",
              "      fill: #D2E3FC;\n",
              "    }\n",
              "\n",
              "    [theme=dark] .colab-df-convert:hover {\n",
              "      background-color: #434B5C;\n",
              "      box-shadow: 0px 1px 3px 1px rgba(0, 0, 0, 0.15);\n",
              "      filter: drop-shadow(0px 1px 2px rgba(0, 0, 0, 0.3));\n",
              "      fill: #FFFFFF;\n",
              "    }\n",
              "  </style>\n",
              "\n",
              "      <script>\n",
              "        const buttonEl =\n",
              "          document.querySelector('#df-1401ac9a-ec8e-4a20-b5fb-f51c1deb0719 button.colab-df-convert');\n",
              "        buttonEl.style.display =\n",
              "          google.colab.kernel.accessAllowed ? 'block' : 'none';\n",
              "\n",
              "        async function convertToInteractive(key) {\n",
              "          const element = document.querySelector('#df-1401ac9a-ec8e-4a20-b5fb-f51c1deb0719');\n",
              "          const dataTable =\n",
              "            await google.colab.kernel.invokeFunction('convertToInteractive',\n",
              "                                                     [key], {});\n",
              "          if (!dataTable) return;\n",
              "\n",
              "          const docLinkHtml = 'Like what you see? Visit the ' +\n",
              "            '<a target=\"_blank\" href=https://colab.research.google.com/notebooks/data_table.ipynb>data table notebook</a>'\n",
              "            + ' to learn more about interactive tables.';\n",
              "          element.innerHTML = '';\n",
              "          dataTable['output_type'] = 'display_data';\n",
              "          await google.colab.output.renderOutput(dataTable, element);\n",
              "          const docLink = document.createElement('div');\n",
              "          docLink.innerHTML = docLinkHtml;\n",
              "          element.appendChild(docLink);\n",
              "        }\n",
              "      </script>\n",
              "    </div>\n",
              "  </div>\n",
              "  "
            ]
          },
          "metadata": {},
          "execution_count": 3
        }
      ]
    },
    {
      "cell_type": "markdown",
      "source": [],
      "metadata": {
        "id": "VNFyN6nNCkou"
      }
    },
    {
      "cell_type": "code",
      "source": [
        "# have an overview about the data using .info()\n",
        "df.info()"
      ],
      "metadata": {
        "id": "3xFadmwPTSuL",
        "outputId": "d7b4dc87-264b-4eff-ab7a-64b081cff6bc",
        "colab": {
          "base_uri": "https://localhost:8080/"
        }
      },
      "execution_count": null,
      "outputs": [
        {
          "output_type": "stream",
          "name": "stdout",
          "text": [
            "<class 'pandas.core.frame.DataFrame'>\n",
            "RangeIndex: 1090 entries, 0 to 1089\n",
            "Data columns (total 6 columns):\n",
            " #   Column     Non-Null Count  Dtype  \n",
            "---  ------     --------------  -----  \n",
            " 0   age        1000 non-null   float64\n",
            " 1   job        1090 non-null   object \n",
            " 2   marital    1090 non-null   object \n",
            " 3   education  1090 non-null   object \n",
            " 4   balance    1090 non-null   int64  \n",
            " 5   duration   1090 non-null   object \n",
            "dtypes: float64(1), int64(1), object(4)\n",
            "memory usage: 51.2+ KB\n"
          ]
        }
      ]
    },
    {
      "cell_type": "code",
      "source": [
        "# summarize what is wrong with your data !! (hint: Missing_values)\n",
        "\n"
      ],
      "metadata": {
        "id": "r-e-IrofTg3q"
      },
      "execution_count": null,
      "outputs": []
    },
    {
      "cell_type": "markdown",
      "source": [
        "# <font color='blue'>Dealing with missing values:\n",
        ">## **hint**: Impute *NaN* in **`age`** column\n",
        "\n",
        ">##### **BONUS**: solve it with two imputing ways. \n",
        "\n"
      ],
      "metadata": {
        "id": "u0Jkv7kcU5jT"
      }
    },
    {
      "cell_type": "code",
      "source": [
        "from numpy import nan\n",
        "# First Methodology:\n",
        "\n",
        "df = df[df['age'] != nan]"
      ],
      "metadata": {
        "id": "cXpQH4beVNdx"
      },
      "execution_count": null,
      "outputs": []
    },
    {
      "cell_type": "code",
      "source": [
        "# Second Methodology\n",
        "\n",
        "df = df.dropna()\n",
        "\n"
      ],
      "metadata": {
        "id": "iIbzc82dWyqK"
      },
      "execution_count": null,
      "outputs": []
    },
    {
      "cell_type": "markdown",
      "source": [
        "# <font color='blue'>Run **`df.isna().sum()`** to make sure no more missing values.\n",
        ">## **Hint**: Don't Forget those hidden ones.\n",
        "use `.unique()` or `.value_counts()` for help."
      ],
      "metadata": {
        "id": "Bm1ruIIWW_xh"
      }
    },
    {
      "cell_type": "code",
      "source": [
        "df.isna().sum()"
      ],
      "metadata": {
        "id": "42zPhvpZX5rn",
        "outputId": "d3538cb8-a33d-4629-f1cc-744738f7d359",
        "colab": {
          "base_uri": "https://localhost:8080/"
        }
      },
      "execution_count": null,
      "outputs": [
        {
          "output_type": "execute_result",
          "data": {
            "text/plain": [
              "age          0\n",
              "job          0\n",
              "marital      0\n",
              "education    0\n",
              "balance      0\n",
              "duration     0\n",
              "dtype: int64"
            ]
          },
          "metadata": {},
          "execution_count": 7
        }
      ]
    },
    {
      "cell_type": "code",
      "source": [
        "df.value_counts(dropna = False)"
      ],
      "metadata": {
        "id": "1F-unrBvX55o",
        "outputId": "66f012ff-0cd6-4b6f-e2c0-01941204f042",
        "colab": {
          "base_uri": "https://localhost:8080/"
        }
      },
      "execution_count": null,
      "outputs": [
        {
          "output_type": "execute_result",
          "data": {
            "text/plain": [
              "age   job          marital  education  balance  duration\n",
              "22.0  blue-collar  single   secondary   0       179         1\n",
              "47.0  blue-collar  married  unknown     733     268         1\n",
              "46.0  technician   married  tertiary    841     158         1\n",
              "      unemployed   married  secondary  -125     23          1\n",
              "47.0  admin.       married  primary     192     47          1\n",
              "                                                           ..\n",
              "38.0  admin.       married  secondary   8       125         1\n",
              "                                        46      195         1\n",
              "                                        3047    285         1\n",
              "                   single   secondary   100     786         1\n",
              "61.0  retired      married  secondary   195     179         1\n",
              "Length: 1000, dtype: int64"
            ]
          },
          "metadata": {},
          "execution_count": 8
        }
      ]
    },
    {
      "cell_type": "markdown",
      "source": [
        "# <font color='blue'>Check for duplicates if exist."
      ],
      "metadata": {
        "id": "J6l1D84kZUII"
      }
    },
    {
      "cell_type": "code",
      "source": [
        "df.duplicated()\n"
      ],
      "metadata": {
        "id": "HstkvhiCaBWg",
        "outputId": "bf27902a-583b-44c5-b95e-94ef690306a2",
        "colab": {
          "base_uri": "https://localhost:8080/"
        }
      },
      "execution_count": null,
      "outputs": [
        {
          "output_type": "execute_result",
          "data": {
            "text/plain": [
              "0      False\n",
              "1      False\n",
              "2      False\n",
              "3      False\n",
              "4      False\n",
              "       ...  \n",
              "995    False\n",
              "996    False\n",
              "997    False\n",
              "998    False\n",
              "999    False\n",
              "Length: 1000, dtype: bool"
            ]
          },
          "metadata": {},
          "execution_count": 9
        }
      ]
    },
    {
      "cell_type": "markdown",
      "source": [
        "# <font color='blue'>Go on your work by cleaning the **`duration`** column."
      ],
      "metadata": {
        "id": "umasv5u-aIlf"
      }
    },
    {
      "cell_type": "code",
      "source": [
        "df.replace(('zero', 0), inplace = True)"
      ],
      "metadata": {
        "id": "BDYIFM8AanUW",
        "colab": {
          "base_uri": "https://localhost:8080/"
        },
        "outputId": "7e98595e-f698-4f7d-bd27-2e4e401f916c"
      },
      "execution_count": null,
      "outputs": [
        {
          "output_type": "execute_result",
          "data": {
            "text/plain": [
              "age          None\n",
              "job          None\n",
              "marital      None\n",
              "education    None\n",
              "balance      None\n",
              "duration     None\n",
              "dtype: object"
            ]
          },
          "metadata": {},
          "execution_count": 20
        }
      ]
    },
    {
      "cell_type": "code",
      "source": [
        "df ['duration'] = df ['duration'].astype('int')"
      ],
      "metadata": {
        "id": "kCS9-nN-cDvF"
      },
      "execution_count": null,
      "outputs": []
    },
    {
      "cell_type": "code",
      "source": [],
      "metadata": {
        "id": "dL9GZmojdsxW"
      },
      "execution_count": null,
      "outputs": []
    },
    {
      "cell_type": "markdown",
      "source": [
        "# <font color='blue'>Show your data in the given form below:\n",
        "> ## **Note:** **`age`** represents the average_age\n",
        "> ## **Note:** **`duration`** represents the max_duration\n",
        "_______________\n",
        "\n",
        "![2.PNG](data:image/png;base64,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)"
      ],
      "metadata": {
        "id": "3K-6EJHBd8gy"
      }
    },
    {
      "cell_type": "code",
      "source": [
        "df2 = df[['job','age','duration']] "
      ],
      "metadata": {
        "id": "Om4kmScggiC6"
      },
      "execution_count": null,
      "outputs": []
    },
    {
      "cell_type": "code",
      "source": [],
      "metadata": {
        "id": "Of8k_aBHreYy"
      },
      "execution_count": null,
      "outputs": []
    },
    {
      "cell_type": "code",
      "source": [],
      "metadata": {
        "id": "J2jvXxCpeHQN"
      },
      "execution_count": null,
      "outputs": []
    },
    {
      "cell_type": "markdown",
      "source": [
        "# <font color='blue'>Show the table of the previous question after **sorting** it by **`duration`**:"
      ],
      "metadata": {
        "id": "eQxsenMngz_Z"
      }
    },
    {
      "cell_type": "code",
      "source": [
        "df2.sort_values(by=['duration'])"
      ],
      "metadata": {
        "id": "ccVhUdPohVV6",
        "colab": {
          "base_uri": "https://localhost:8080/",
          "height": 424
        },
        "outputId": "45daf242-71c9-4650-c350-00f68d3c2864"
      },
      "execution_count": null,
      "outputs": [
        {
          "output_type": "execute_result",
          "data": {
            "text/plain": [
              "             job   age  duration\n",
              "287   technician  50.0         2\n",
              "284  blue-collar  30.0         5\n",
              "272   technician  57.0        10\n",
              "538  blue-collar  34.0        13\n",
              "57   blue-collar  47.0        13\n",
              "..           ...   ...       ...\n",
              "37    technician  53.0      1666\n",
              "474       admin.  34.0      1677\n",
              "59      services  46.0      1778\n",
              "600  blue-collar  38.0      1906\n",
              "152   management  40.0      2033\n",
              "\n",
              "[1000 rows x 3 columns]"
            ],
            "text/html": [
              "\n",
              "  <div id=\"df-41a15eaf-bbc7-4918-90a7-ea62e94c994b\">\n",
              "    <div class=\"colab-df-container\">\n",
              "      <div>\n",
              "<style scoped>\n",
              "    .dataframe tbody tr th:only-of-type {\n",
              "        vertical-align: middle;\n",
              "    }\n",
              "\n",
              "    .dataframe tbody tr th {\n",
              "        vertical-align: top;\n",
              "    }\n",
              "\n",
              "    .dataframe thead th {\n",
              "        text-align: right;\n",
              "    }\n",
              "</style>\n",
              "<table border=\"1\" class=\"dataframe\">\n",
              "  <thead>\n",
              "    <tr style=\"text-align: right;\">\n",
              "      <th></th>\n",
              "      <th>job</th>\n",
              "      <th>age</th>\n",
              "      <th>duration</th>\n",
              "    </tr>\n",
              "  </thead>\n",
              "  <tbody>\n",
              "    <tr>\n",
              "      <th>287</th>\n",
              "      <td>technician</td>\n",
              "      <td>50.0</td>\n",
              "      <td>2</td>\n",
              "    </tr>\n",
              "    <tr>\n",
              "      <th>284</th>\n",
              "      <td>blue-collar</td>\n",
              "      <td>30.0</td>\n",
              "      <td>5</td>\n",
              "    </tr>\n",
              "    <tr>\n",
              "      <th>272</th>\n",
              "      <td>technician</td>\n",
              "      <td>57.0</td>\n",
              "      <td>10</td>\n",
              "    </tr>\n",
              "    <tr>\n",
              "      <th>538</th>\n",
              "      <td>blue-collar</td>\n",
              "      <td>34.0</td>\n",
              "      <td>13</td>\n",
              "    </tr>\n",
              "    <tr>\n",
              "      <th>57</th>\n",
              "      <td>blue-collar</td>\n",
              "      <td>47.0</td>\n",
              "      <td>13</td>\n",
              "    </tr>\n",
              "    <tr>\n",
              "      <th>...</th>\n",
              "      <td>...</td>\n",
              "      <td>...</td>\n",
              "      <td>...</td>\n",
              "    </tr>\n",
              "    <tr>\n",
              "      <th>37</th>\n",
              "      <td>technician</td>\n",
              "      <td>53.0</td>\n",
              "      <td>1666</td>\n",
              "    </tr>\n",
              "    <tr>\n",
              "      <th>474</th>\n",
              "      <td>admin.</td>\n",
              "      <td>34.0</td>\n",
              "      <td>1677</td>\n",
              "    </tr>\n",
              "    <tr>\n",
              "      <th>59</th>\n",
              "      <td>services</td>\n",
              "      <td>46.0</td>\n",
              "      <td>1778</td>\n",
              "    </tr>\n",
              "    <tr>\n",
              "      <th>600</th>\n",
              "      <td>blue-collar</td>\n",
              "      <td>38.0</td>\n",
              "      <td>1906</td>\n",
              "    </tr>\n",
              "    <tr>\n",
              "      <th>152</th>\n",
              "      <td>management</td>\n",
              "      <td>40.0</td>\n",
              "      <td>2033</td>\n",
              "    </tr>\n",
              "  </tbody>\n",
              "</table>\n",
              "<p>1000 rows × 3 columns</p>\n",
              "</div>\n",
              "      <button class=\"colab-df-convert\" onclick=\"convertToInteractive('df-41a15eaf-bbc7-4918-90a7-ea62e94c994b')\"\n",
              "              title=\"Convert this dataframe to an interactive table.\"\n",
              "              style=\"display:none;\">\n",
              "        \n",
              "  <svg xmlns=\"http://www.w3.org/2000/svg\" height=\"24px\"viewBox=\"0 0 24 24\"\n",
              "       width=\"24px\">\n",
              "    <path d=\"M0 0h24v24H0V0z\" fill=\"none\"/>\n",
              "    <path d=\"M18.56 5.44l.94 2.06.94-2.06 2.06-.94-2.06-.94-.94-2.06-.94 2.06-2.06.94zm-11 1L8.5 8.5l.94-2.06 2.06-.94-2.06-.94L8.5 2.5l-.94 2.06-2.06.94zm10 10l.94 2.06.94-2.06 2.06-.94-2.06-.94-.94-2.06-.94 2.06-2.06.94z\"/><path d=\"M17.41 7.96l-1.37-1.37c-.4-.4-.92-.59-1.43-.59-.52 0-1.04.2-1.43.59L10.3 9.45l-7.72 7.72c-.78.78-.78 2.05 0 2.83L4 21.41c.39.39.9.59 1.41.59.51 0 1.02-.2 1.41-.59l7.78-7.78 2.81-2.81c.8-.78.8-2.07 0-2.86zM5.41 20L4 18.59l7.72-7.72 1.47 1.35L5.41 20z\"/>\n",
              "  </svg>\n",
              "      </button>\n",
              "      \n",
              "  <style>\n",
              "    .colab-df-container {\n",
              "      display:flex;\n",
              "      flex-wrap:wrap;\n",
              "      gap: 12px;\n",
              "    }\n",
              "\n",
              "    .colab-df-convert {\n",
              "      background-color: #E8F0FE;\n",
              "      border: none;\n",
              "      border-radius: 50%;\n",
              "      cursor: pointer;\n",
              "      display: none;\n",
              "      fill: #1967D2;\n",
              "      height: 32px;\n",
              "      padding: 0 0 0 0;\n",
              "      width: 32px;\n",
              "    }\n",
              "\n",
              "    .colab-df-convert:hover {\n",
              "      background-color: #E2EBFA;\n",
              "      box-shadow: 0px 1px 2px rgba(60, 64, 67, 0.3), 0px 1px 3px 1px rgba(60, 64, 67, 0.15);\n",
              "      fill: #174EA6;\n",
              "    }\n",
              "\n",
              "    [theme=dark] .colab-df-convert {\n",
              "      background-color: #3B4455;\n",
              "      fill: #D2E3FC;\n",
              "    }\n",
              "\n",
              "    [theme=dark] .colab-df-convert:hover {\n",
              "      background-color: #434B5C;\n",
              "      box-shadow: 0px 1px 3px 1px rgba(0, 0, 0, 0.15);\n",
              "      filter: drop-shadow(0px 1px 2px rgba(0, 0, 0, 0.3));\n",
              "      fill: #FFFFFF;\n",
              "    }\n",
              "  </style>\n",
              "\n",
              "      <script>\n",
              "        const buttonEl =\n",
              "          document.querySelector('#df-41a15eaf-bbc7-4918-90a7-ea62e94c994b button.colab-df-convert');\n",
              "        buttonEl.style.display =\n",
              "          google.colab.kernel.accessAllowed ? 'block' : 'none';\n",
              "\n",
              "        async function convertToInteractive(key) {\n",
              "          const element = document.querySelector('#df-41a15eaf-bbc7-4918-90a7-ea62e94c994b');\n",
              "          const dataTable =\n",
              "            await google.colab.kernel.invokeFunction('convertToInteractive',\n",
              "                                                     [key], {});\n",
              "          if (!dataTable) return;\n",
              "\n",
              "          const docLinkHtml = 'Like what you see? Visit the ' +\n",
              "            '<a target=\"_blank\" href=https://colab.research.google.com/notebooks/data_table.ipynb>data table notebook</a>'\n",
              "            + ' to learn more about interactive tables.';\n",
              "          element.innerHTML = '';\n",
              "          dataTable['output_type'] = 'display_data';\n",
              "          await google.colab.output.renderOutput(dataTable, element);\n",
              "          const docLink = document.createElement('div');\n",
              "          docLink.innerHTML = docLinkHtml;\n",
              "          element.appendChild(docLink);\n",
              "        }\n",
              "      </script>\n",
              "    </div>\n",
              "  </div>\n",
              "  "
            ]
          },
          "metadata": {},
          "execution_count": 27
        }
      ]
    },
    {
      "cell_type": "markdown",
      "source": [
        "# <font color='blue'>Use **`qcut`** method on **`age`** column to create a new column called **`age_divided`** that divides the customers into two categories (**`young_customers`** and **`old_customers`**):\n"
      ],
      "metadata": {
        "id": "WV2rGlU9ikJJ"
      }
    },
    {
      "cell_type": "code",
      "source": [
        "df['age_divided'] = pd.qcut(df.age, q=2, labels=['young_customers', 'old_customers'])"
      ],
      "metadata": {
        "id": "Z1EnpVDikEja"
      },
      "execution_count": null,
      "outputs": []
    },
    {
      "cell_type": "code",
      "source": [
        "df"
      ],
      "metadata": {
        "id": "mhyrgBmSkEqW",
        "colab": {
          "base_uri": "https://localhost:8080/",
          "height": 424
        },
        "outputId": "e01b4914-22ba-4177-c83a-e456d9f478e2"
      },
      "execution_count": null,
      "outputs": [
        {
          "output_type": "execute_result",
          "data": {
            "text/plain": [
              "      age           job  marital  education  balance  duration  \\\n",
              "0    58.0    management  married   tertiary     2143       261   \n",
              "1    44.0    technician   single  secondary       29       151   \n",
              "2    33.0  entrepreneur  married  secondary        2        76   \n",
              "3    47.0   blue-collar  married    unknown     1506        92   \n",
              "4    33.0       unknown   single    unknown        1       198   \n",
              "..    ...           ...      ...        ...      ...       ...   \n",
              "995  37.0   blue-collar  married    primary      310       474   \n",
              "996  34.0        admin.  married  secondary      475       559   \n",
              "997  43.0   blue-collar  married    primary       61       261   \n",
              "998  49.0      services  married  secondary     1377      1101   \n",
              "999  33.0    technician   single  secondary       56       236   \n",
              "\n",
              "         age_divided  \n",
              "0      old_customers  \n",
              "1      old_customers  \n",
              "2    young_customers  \n",
              "3      old_customers  \n",
              "4    young_customers  \n",
              "..               ...  \n",
              "995  young_customers  \n",
              "996  young_customers  \n",
              "997    old_customers  \n",
              "998    old_customers  \n",
              "999  young_customers  \n",
              "\n",
              "[1000 rows x 7 columns]"
            ],
            "text/html": [
              "\n",
              "  <div id=\"df-9f7f1859-a335-4b57-bf03-9896542a61ba\">\n",
              "    <div class=\"colab-df-container\">\n",
              "      <div>\n",
              "<style scoped>\n",
              "    .dataframe tbody tr th:only-of-type {\n",
              "        vertical-align: middle;\n",
              "    }\n",
              "\n",
              "    .dataframe tbody tr th {\n",
              "        vertical-align: top;\n",
              "    }\n",
              "\n",
              "    .dataframe thead th {\n",
              "        text-align: right;\n",
              "    }\n",
              "</style>\n",
              "<table border=\"1\" class=\"dataframe\">\n",
              "  <thead>\n",
              "    <tr style=\"text-align: right;\">\n",
              "      <th></th>\n",
              "      <th>age</th>\n",
              "      <th>job</th>\n",
              "      <th>marital</th>\n",
              "      <th>education</th>\n",
              "      <th>balance</th>\n",
              "      <th>duration</th>\n",
              "      <th>age_divided</th>\n",
              "    </tr>\n",
              "  </thead>\n",
              "  <tbody>\n",
              "    <tr>\n",
              "      <th>0</th>\n",
              "      <td>58.0</td>\n",
              "      <td>management</td>\n",
              "      <td>married</td>\n",
              "      <td>tertiary</td>\n",
              "      <td>2143</td>\n",
              "      <td>261</td>\n",
              "      <td>old_customers</td>\n",
              "    </tr>\n",
              "    <tr>\n",
              "      <th>1</th>\n",
              "      <td>44.0</td>\n",
              "      <td>technician</td>\n",
              "      <td>single</td>\n",
              "      <td>secondary</td>\n",
              "      <td>29</td>\n",
              "      <td>151</td>\n",
              "      <td>old_customers</td>\n",
              "    </tr>\n",
              "    <tr>\n",
              "      <th>2</th>\n",
              "      <td>33.0</td>\n",
              "      <td>entrepreneur</td>\n",
              "      <td>married</td>\n",
              "      <td>secondary</td>\n",
              "      <td>2</td>\n",
              "      <td>76</td>\n",
              "      <td>young_customers</td>\n",
              "    </tr>\n",
              "    <tr>\n",
              "      <th>3</th>\n",
              "      <td>47.0</td>\n",
              "      <td>blue-collar</td>\n",
              "      <td>married</td>\n",
              "      <td>unknown</td>\n",
              "      <td>1506</td>\n",
              "      <td>92</td>\n",
              "      <td>old_customers</td>\n",
              "    </tr>\n",
              "    <tr>\n",
              "      <th>4</th>\n",
              "      <td>33.0</td>\n",
              "      <td>unknown</td>\n",
              "      <td>single</td>\n",
              "      <td>unknown</td>\n",
              "      <td>1</td>\n",
              "      <td>198</td>\n",
              "      <td>young_customers</td>\n",
              "    </tr>\n",
              "    <tr>\n",
              "      <th>...</th>\n",
              "      <td>...</td>\n",
              "      <td>...</td>\n",
              "      <td>...</td>\n",
              "      <td>...</td>\n",
              "      <td>...</td>\n",
              "      <td>...</td>\n",
              "      <td>...</td>\n",
              "    </tr>\n",
              "    <tr>\n",
              "      <th>995</th>\n",
              "      <td>37.0</td>\n",
              "      <td>blue-collar</td>\n",
              "      <td>married</td>\n",
              "      <td>primary</td>\n",
              "      <td>310</td>\n",
              "      <td>474</td>\n",
              "      <td>young_customers</td>\n",
              "    </tr>\n",
              "    <tr>\n",
              "      <th>996</th>\n",
              "      <td>34.0</td>\n",
              "      <td>admin.</td>\n",
              "      <td>married</td>\n",
              "      <td>secondary</td>\n",
              "      <td>475</td>\n",
              "      <td>559</td>\n",
              "      <td>young_customers</td>\n",
              "    </tr>\n",
              "    <tr>\n",
              "      <th>997</th>\n",
              "      <td>43.0</td>\n",
              "      <td>blue-collar</td>\n",
              "      <td>married</td>\n",
              "      <td>primary</td>\n",
              "      <td>61</td>\n",
              "      <td>261</td>\n",
              "      <td>old_customers</td>\n",
              "    </tr>\n",
              "    <tr>\n",
              "      <th>998</th>\n",
              "      <td>49.0</td>\n",
              "      <td>services</td>\n",
              "      <td>married</td>\n",
              "      <td>secondary</td>\n",
              "      <td>1377</td>\n",
              "      <td>1101</td>\n",
              "      <td>old_customers</td>\n",
              "    </tr>\n",
              "    <tr>\n",
              "      <th>999</th>\n",
              "      <td>33.0</td>\n",
              "      <td>technician</td>\n",
              "      <td>single</td>\n",
              "      <td>secondary</td>\n",
              "      <td>56</td>\n",
              "      <td>236</td>\n",
              "      <td>young_customers</td>\n",
              "    </tr>\n",
              "  </tbody>\n",
              "</table>\n",
              "<p>1000 rows × 7 columns</p>\n",
              "</div>\n",
              "      <button class=\"colab-df-convert\" onclick=\"convertToInteractive('df-9f7f1859-a335-4b57-bf03-9896542a61ba')\"\n",
              "              title=\"Convert this dataframe to an interactive table.\"\n",
              "              style=\"display:none;\">\n",
              "        \n",
              "  <svg xmlns=\"http://www.w3.org/2000/svg\" height=\"24px\"viewBox=\"0 0 24 24\"\n",
              "       width=\"24px\">\n",
              "    <path d=\"M0 0h24v24H0V0z\" fill=\"none\"/>\n",
              "    <path d=\"M18.56 5.44l.94 2.06.94-2.06 2.06-.94-2.06-.94-.94-2.06-.94 2.06-2.06.94zm-11 1L8.5 8.5l.94-2.06 2.06-.94-2.06-.94L8.5 2.5l-.94 2.06-2.06.94zm10 10l.94 2.06.94-2.06 2.06-.94-2.06-.94-.94-2.06-.94 2.06-2.06.94z\"/><path d=\"M17.41 7.96l-1.37-1.37c-.4-.4-.92-.59-1.43-.59-.52 0-1.04.2-1.43.59L10.3 9.45l-7.72 7.72c-.78.78-.78 2.05 0 2.83L4 21.41c.39.39.9.59 1.41.59.51 0 1.02-.2 1.41-.59l7.78-7.78 2.81-2.81c.8-.78.8-2.07 0-2.86zM5.41 20L4 18.59l7.72-7.72 1.47 1.35L5.41 20z\"/>\n",
              "  </svg>\n",
              "      </button>\n",
              "      \n",
              "  <style>\n",
              "    .colab-df-container {\n",
              "      display:flex;\n",
              "      flex-wrap:wrap;\n",
              "      gap: 12px;\n",
              "    }\n",
              "\n",
              "    .colab-df-convert {\n",
              "      background-color: #E8F0FE;\n",
              "      border: none;\n",
              "      border-radius: 50%;\n",
              "      cursor: pointer;\n",
              "      display: none;\n",
              "      fill: #1967D2;\n",
              "      height: 32px;\n",
              "      padding: 0 0 0 0;\n",
              "      width: 32px;\n",
              "    }\n",
              "\n",
              "    .colab-df-convert:hover {\n",
              "      background-color: #E2EBFA;\n",
              "      box-shadow: 0px 1px 2px rgba(60, 64, 67, 0.3), 0px 1px 3px 1px rgba(60, 64, 67, 0.15);\n",
              "      fill: #174EA6;\n",
              "    }\n",
              "\n",
              "    [theme=dark] .colab-df-convert {\n",
              "      background-color: #3B4455;\n",
              "      fill: #D2E3FC;\n",
              "    }\n",
              "\n",
              "    [theme=dark] .colab-df-convert:hover {\n",
              "      background-color: #434B5C;\n",
              "      box-shadow: 0px 1px 3px 1px rgba(0, 0, 0, 0.15);\n",
              "      filter: drop-shadow(0px 1px 2px rgba(0, 0, 0, 0.3));\n",
              "      fill: #FFFFFF;\n",
              "    }\n",
              "  </style>\n",
              "\n",
              "      <script>\n",
              "        const buttonEl =\n",
              "          document.querySelector('#df-9f7f1859-a335-4b57-bf03-9896542a61ba button.colab-df-convert');\n",
              "        buttonEl.style.display =\n",
              "          google.colab.kernel.accessAllowed ? 'block' : 'none';\n",
              "\n",
              "        async function convertToInteractive(key) {\n",
              "          const element = document.querySelector('#df-9f7f1859-a335-4b57-bf03-9896542a61ba');\n",
              "          const dataTable =\n",
              "            await google.colab.kernel.invokeFunction('convertToInteractive',\n",
              "                                                     [key], {});\n",
              "          if (!dataTable) return;\n",
              "\n",
              "          const docLinkHtml = 'Like what you see? Visit the ' +\n",
              "            '<a target=\"_blank\" href=https://colab.research.google.com/notebooks/data_table.ipynb>data table notebook</a>'\n",
              "            + ' to learn more about interactive tables.';\n",
              "          element.innerHTML = '';\n",
              "          dataTable['output_type'] = 'display_data';\n",
              "          await google.colab.output.renderOutput(dataTable, element);\n",
              "          const docLink = document.createElement('div');\n",
              "          docLink.innerHTML = docLinkHtml;\n",
              "          element.appendChild(docLink);\n",
              "        }\n",
              "      </script>\n",
              "    </div>\n",
              "  </div>\n",
              "  "
            ]
          },
          "metadata": {},
          "execution_count": 33
        }
      ]
    },
    {
      "cell_type": "markdown",
      "source": [
        "# <font color='blue'>Show the **average_age** and **max_duration** of the divided customers like this:\n",
        ">## **hint:** Use **`groupby`** method:\n",
        "![3.PNG](data:image/png;base64,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)"
      ],
      "metadata": {
        "id": "UvX7iYgVtTZr"
      }
    },
    {
      "cell_type": "code",
      "source": [
        "df3 = df.groupby('age_divided').agg({'age':'mean', 'duration':'max'})[['age','duration']].reset_index()"
      ],
      "metadata": {
        "id": "ceXwH_lxpcZ9"
      },
      "execution_count": null,
      "outputs": []
    },
    {
      "cell_type": "code",
      "source": [
        "df3"
      ],
      "metadata": {
        "id": "vIBlebrfpp2m",
        "colab": {
          "base_uri": "https://localhost:8080/",
          "height": 112
        },
        "outputId": "cb7f35d2-7adb-4853-fa9a-58e5422b74e2"
      },
      "execution_count": null,
      "outputs": [
        {
          "output_type": "execute_result",
          "data": {
            "text/plain": [
              "       age_divided        age  duration\n",
              "0  young_customers  35.403738      2033\n",
              "1    old_customers  50.840860      1778"
            ],
            "text/html": [
              "\n",
              "  <div id=\"df-957af861-972a-482b-9e37-3931445bffe1\">\n",
              "    <div class=\"colab-df-container\">\n",
              "      <div>\n",
              "<style scoped>\n",
              "    .dataframe tbody tr th:only-of-type {\n",
              "        vertical-align: middle;\n",
              "    }\n",
              "\n",
              "    .dataframe tbody tr th {\n",
              "        vertical-align: top;\n",
              "    }\n",
              "\n",
              "    .dataframe thead th {\n",
              "        text-align: right;\n",
              "    }\n",
              "</style>\n",
              "<table border=\"1\" class=\"dataframe\">\n",
              "  <thead>\n",
              "    <tr style=\"text-align: right;\">\n",
              "      <th></th>\n",
              "      <th>age_divided</th>\n",
              "      <th>age</th>\n",
              "      <th>duration</th>\n",
              "    </tr>\n",
              "  </thead>\n",
              "  <tbody>\n",
              "    <tr>\n",
              "      <th>0</th>\n",
              "      <td>young_customers</td>\n",
              "      <td>35.403738</td>\n",
              "      <td>2033</td>\n",
              "    </tr>\n",
              "    <tr>\n",
              "      <th>1</th>\n",
              "      <td>old_customers</td>\n",
              "      <td>50.840860</td>\n",
              "      <td>1778</td>\n",
              "    </tr>\n",
              "  </tbody>\n",
              "</table>\n",
              "</div>\n",
              "      <button class=\"colab-df-convert\" onclick=\"convertToInteractive('df-957af861-972a-482b-9e37-3931445bffe1')\"\n",
              "              title=\"Convert this dataframe to an interactive table.\"\n",
              "              style=\"display:none;\">\n",
              "        \n",
              "  <svg xmlns=\"http://www.w3.org/2000/svg\" height=\"24px\"viewBox=\"0 0 24 24\"\n",
              "       width=\"24px\">\n",
              "    <path d=\"M0 0h24v24H0V0z\" fill=\"none\"/>\n",
              "    <path d=\"M18.56 5.44l.94 2.06.94-2.06 2.06-.94-2.06-.94-.94-2.06-.94 2.06-2.06.94zm-11 1L8.5 8.5l.94-2.06 2.06-.94-2.06-.94L8.5 2.5l-.94 2.06-2.06.94zm10 10l.94 2.06.94-2.06 2.06-.94-2.06-.94-.94-2.06-.94 2.06-2.06.94z\"/><path d=\"M17.41 7.96l-1.37-1.37c-.4-.4-.92-.59-1.43-.59-.52 0-1.04.2-1.43.59L10.3 9.45l-7.72 7.72c-.78.78-.78 2.05 0 2.83L4 21.41c.39.39.9.59 1.41.59.51 0 1.02-.2 1.41-.59l7.78-7.78 2.81-2.81c.8-.78.8-2.07 0-2.86zM5.41 20L4 18.59l7.72-7.72 1.47 1.35L5.41 20z\"/>\n",
              "  </svg>\n",
              "      </button>\n",
              "      \n",
              "  <style>\n",
              "    .colab-df-container {\n",
              "      display:flex;\n",
              "      flex-wrap:wrap;\n",
              "      gap: 12px;\n",
              "    }\n",
              "\n",
              "    .colab-df-convert {\n",
              "      background-color: #E8F0FE;\n",
              "      border: none;\n",
              "      border-radius: 50%;\n",
              "      cursor: pointer;\n",
              "      display: none;\n",
              "      fill: #1967D2;\n",
              "      height: 32px;\n",
              "      padding: 0 0 0 0;\n",
              "      width: 32px;\n",
              "    }\n",
              "\n",
              "    .colab-df-convert:hover {\n",
              "      background-color: #E2EBFA;\n",
              "      box-shadow: 0px 1px 2px rgba(60, 64, 67, 0.3), 0px 1px 3px 1px rgba(60, 64, 67, 0.15);\n",
              "      fill: #174EA6;\n",
              "    }\n",
              "\n",
              "    [theme=dark] .colab-df-convert {\n",
              "      background-color: #3B4455;\n",
              "      fill: #D2E3FC;\n",
              "    }\n",
              "\n",
              "    [theme=dark] .colab-df-convert:hover {\n",
              "      background-color: #434B5C;\n",
              "      box-shadow: 0px 1px 3px 1px rgba(0, 0, 0, 0.15);\n",
              "      filter: drop-shadow(0px 1px 2px rgba(0, 0, 0, 0.3));\n",
              "      fill: #FFFFFF;\n",
              "    }\n",
              "  </style>\n",
              "\n",
              "      <script>\n",
              "        const buttonEl =\n",
              "          document.querySelector('#df-957af861-972a-482b-9e37-3931445bffe1 button.colab-df-convert');\n",
              "        buttonEl.style.display =\n",
              "          google.colab.kernel.accessAllowed ? 'block' : 'none';\n",
              "\n",
              "        async function convertToInteractive(key) {\n",
              "          const element = document.querySelector('#df-957af861-972a-482b-9e37-3931445bffe1');\n",
              "          const dataTable =\n",
              "            await google.colab.kernel.invokeFunction('convertToInteractive',\n",
              "                                                     [key], {});\n",
              "          if (!dataTable) return;\n",
              "\n",
              "          const docLinkHtml = 'Like what you see? Visit the ' +\n",
              "            '<a target=\"_blank\" href=https://colab.research.google.com/notebooks/data_table.ipynb>data table notebook</a>'\n",
              "            + ' to learn more about interactive tables.';\n",
              "          element.innerHTML = '';\n",
              "          dataTable['output_type'] = 'display_data';\n",
              "          await google.colab.output.renderOutput(dataTable, element);\n",
              "          const docLink = document.createElement('div');\n",
              "          docLink.innerHTML = docLinkHtml;\n",
              "          element.appendChild(docLink);\n",
              "        }\n",
              "      </script>\n",
              "    </div>\n",
              "  </div>\n",
              "  "
            ]
          },
          "metadata": {},
          "execution_count": 59
        }
      ]
    },
    {
      "cell_type": "markdown",
      "source": [
        "# **<font color='red'>Git Part**\n"
      ],
      "metadata": {
        "id": "vfNe1kS0uCVq"
      }
    },
    {
      "cell_type": "markdown",
      "source": [
        "\n",
        "# 1. What is Git?\n",
        "\n",
        "\n",
        "> a) A nickname for GitHub\n",
        "\n",
        "> b) A remote repository platform\n",
        "\n",
        "> c) A programming language\n",
        "\n",
        "> d) A version control system"
      ],
      "metadata": {
        "id": "U9FCshffu7dY"
      }
    },
    {
      "cell_type": "code",
      "source": [
        "# d"
      ],
      "metadata": {
        "id": "EqcslHWvuYPP"
      },
      "execution_count": null,
      "outputs": []
    },
    {
      "cell_type": "markdown",
      "source": [
        "# Why we use the Version Contol System :)"
      ],
      "metadata": {
        "id": "CBvwepubxCbn"
      }
    },
    {
      "cell_type": "code",
      "source": [
        "#to keep track of every modification to the code in a special kind of database"
      ],
      "metadata": {
        "id": "2QkD7Mn9xXDx"
      },
      "execution_count": null,
      "outputs": []
    },
    {
      "cell_type": "markdown",
      "source": [
        "\n",
        "# 2. Which command should you use to initialize a new Git repository?\n",
        "\n",
        "\n",
        "> a) git bash\n",
        "\n",
        "> b) git install\n",
        "\n",
        "> c) git init\n",
        "\n",
        "> d) git start"
      ],
      "metadata": {
        "id": "xjghLBSFwcPM"
      }
    },
    {
      "cell_type": "code",
      "source": [
        "# c"
      ],
      "metadata": {
        "id": "3i7EU-TowcPN"
      },
      "execution_count": null,
      "outputs": []
    },
    {
      "cell_type": "markdown",
      "source": [
        "\n",
        "# 3. After you initialize a new Git repository and create a file named **`git-quiz.html`** , which of the following commands will **NOT** work if issued?\n",
        "\n",
        "\n",
        "> a) **`git add`** git-quiz.html\n",
        "\n",
        "> b) **`git status`**\n",
        "\n",
        "> c) **`git add .`**\n",
        "\n",
        "> d) **`git commit -m`** \"git quiz web file added\"\n"
      ],
      "metadata": {
        "id": "kJ2heVdRvfeT"
      }
    },
    {
      "cell_type": "code",
      "source": [
        "# c"
      ],
      "metadata": {
        "id": "kftQA7W1vfeT"
      },
      "execution_count": null,
      "outputs": []
    },
    {
      "cell_type": "markdown",
      "source": [
        "# **<font color='red'>Problems**"
      ],
      "metadata": {
        "id": "noiFmLayx17-"
      }
    },
    {
      "cell_type": "markdown",
      "source": [
        "[**Problem_1**](https://codeforces.com/problemset/problem/282/A)"
      ],
      "metadata": {
        "id": "YdOzSlzgxjQJ"
      }
    },
    {
      "cell_type": "code",
      "source": [
        "n = int(input())\n",
        "x = 0\n",
        "for i in range(n):\n",
        "    s = input()\n",
        "    if \"++\" in s:\n",
        "        x = x + 1\n",
        "    elif \"--\" in s:\n",
        "        x = x - 1\n",
        "print(x)"
      ],
      "metadata": {
        "id": "IOLTxAZkxjQK"
      },
      "execution_count": null,
      "outputs": []
    },
    {
      "cell_type": "markdown",
      "source": [
        "[**Problem_2**](https://codeforces.com/group/T3p02rhrmb/contest/324959/problem/G)"
      ],
      "metadata": {
        "id": "sugsMAyb0hzW"
      }
    },
    {
      "cell_type": "code",
      "source": [
        "n = int(input())\n",
        "a = 0\n",
        "x = 0\n",
        "for i in range(n):\n",
        "    a = a + 1\n",
        "    x = x + a\n",
        "print(x)"
      ],
      "metadata": {
        "id": "4TZutCCuyw1r"
      },
      "execution_count": null,
      "outputs": []
    },
    {
      "cell_type": "markdown",
      "source": [
        "# Use git to upload this notebook on Gitub and put the link:"
      ],
      "metadata": {
        "id": "Za0MduJdyw1q"
      }
    },
    {
      "cell_type": "code",
      "source": [
        "https://github.com/moatazebellah/mo.git"
      ],
      "metadata": {
        "id": "vdgMBmHx1Gae"
      },
      "execution_count": null,
      "outputs": []
    }
  ]
}